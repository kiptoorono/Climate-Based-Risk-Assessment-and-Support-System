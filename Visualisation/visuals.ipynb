{
 "cells": [
  {
   "cell_type": "code",
   "execution_count": null,
   "metadata": {},
   "outputs": [],
   "source": [
    "import matplotlib.pyplot as plt\n",
    "import pandas as pd\n",
    "\n",
    "# Load the data\n",
    "df = pd.read_csv(r\"E:\\Agriculture project\\Data\\Processed\\Merged_data_features.csv\")\n"
   ]
  },
  {
   "cell_type": "markdown",
   "metadata": {},
   "source": [
    "<h3>Short-term Trend Analysis</h3>\n",
    "generates line charts for each county, showing climate trends over time based on a **3-month moving average**. The plots include:\n",
    "\n",
    "Each plot is saved as an image in the `Climate_Trends_Images` folder for further analysis.\n"
   ]
  },
  {
   "cell_type": "code",
   "execution_count": null,
   "metadata": {},
   "outputs": [
    {
     "name": "stdout",
     "output_type": "stream",
     "text": [
      "All county plots saved in E:\\Agriculture project\\Analysis\\Climate_Trends_Images\n"
     ]
    }
   ],
   "source": [
    "\n",
    "import os\n",
    "\n",
    "# Load the data\n",
    "df = pd.read_csv(r\"E:\\Agriculture project\\Data\\Processed\\Merged_data_features.csv\")\n",
    "\n",
    "# Ensure Date column is in datetime format\n",
    "df['Date'] = pd.to_datetime(df['Date'])\n",
    "\n",
    "# Filter for 2015-2024\n",
    "df_filtered = df[(df['Date'].dt.year >= 2015) & (df['Date'].dt.year <= 2024)]\n",
    "\n",
    "# Extract county names based on column prefixes\n",
    "county_names = set(col.split('_')[0] for col in df.columns if '_soil_3month_avg' in col)\n",
    "\n",
    "# Output folder for images\n",
    "output_folder = r\"E:\\Agriculture project\\Analysis\\Climate_Trends_Images\"\n",
    "os.makedirs(output_folder, exist_ok=True)\n",
    "\n",
    "# Loop through counties and generate plots\n",
    "for county in county_names:\n",
    "    fig, ax1 = plt.subplots(figsize=(12, 6))\n",
    "\n",
    "    # Plot soil moisture & temperature\n",
    "    ax1.plot(df_filtered['Date'], df_filtered[f\"{county}_soil_3month_avg\"], label=\"Soil Moisture (%)\", color='blue', linestyle='-')\n",
    "    ax1.plot(df_filtered['Date'], df_filtered[f\"{county}_temp_3month_avg\"], label=\"Temperature (°C)\", color='red', linestyle='--')\n",
    "    ax1.set_ylabel(\"Soil Moisture (%) & Temperature (°C)\")\n",
    "\n",
    "    # Add drought threshold line\n",
    "    ax1.axhline(y=15, color='blue', linestyle=':', label=\"Drought Threshold (15%)\")\n",
    "\n",
    "    # Create secondary y-axis for rainfall\n",
    "    ax2 = ax1.twinx()\n",
    "    ax2.plot(df_filtered['Date'], df_filtered[f\"{county}_rain_3month_avg\"], label=\"Rainfall (mm)\", color='green', linestyle='-')\n",
    "    ax2.set_ylabel(\"Rainfall (mm)\")\n",
    "\n",
    "    # Add title & legend\n",
    "    plt.title(f\"{county} Climate Trends (2015-2022) - 3-Month Moving Average\")\n",
    "    ax1.legend(loc=\"upper left\")\n",
    "    ax2.legend(loc=\"upper right\")\n",
    "\n",
    "    plt.xticks(rotation=45)\n",
    "\n",
    "    # Save the figure\n",
    "    image_path = os.path.join(output_folder, f\"{county}_climate_trend.png\")\n",
    "    plt.savefig(image_path, bbox_inches='tight', dpi=300)\n",
    "\n",
    "    plt.close()\n",
    "\n",
    "print(f\"All county plots saved in {output_folder}\")\n"
   ]
  }
 ],
 "metadata": {
  "kernelspec": {
   "display_name": "Python 3",
   "language": "python",
   "name": "python3"
  },
  "language_info": {
   "codemirror_mode": {
    "name": "ipython",
    "version": 3
   },
   "file_extension": ".py",
   "mimetype": "text/x-python",
   "name": "python",
   "nbconvert_exporter": "python",
   "pygments_lexer": "ipython3",
   "version": "3.11.9"
  }
 },
 "nbformat": 4,
 "nbformat_minor": 2
}
