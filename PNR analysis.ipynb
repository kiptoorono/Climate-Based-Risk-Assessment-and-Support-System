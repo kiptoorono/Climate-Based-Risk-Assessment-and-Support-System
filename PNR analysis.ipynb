{
 "cells": [
  {
   "cell_type": "code",
   "execution_count": 3,
   "metadata": {},
   "outputs": [
    {
     "name": "stderr",
     "output_type": "stream",
     "text": [
      "C:\\Users\\Rono\\AppData\\Local\\Temp\\ipykernel_9340\\4259227276.py:30: FutureWarning: 'M' is deprecated and will be removed in a future version, please use 'ME' instead.\n",
      "  monthly_avg = df.resample('M').mean()  # Monthly averages\n",
      "C:\\Users\\Rono\\AppData\\Local\\Temp\\ipykernel_9340\\4259227276.py:31: FutureWarning: 'Y' is deprecated and will be removed in a future version, please use 'YE' instead.\n",
      "  yearly_totals = df.resample('Y').sum()  # Yearly total rainfall\n"
     ]
    },
    {
     "name": "stdout",
     "output_type": "stream",
     "text": [
      "PNR thresholds per county:\n",
      "             Nyeri         Meru    Kirinyaga         Embu     Murang'a  \\\n",
      "count  501.000000   501.000000   501.000000   501.000000   501.000000   \n",
      "mean   100.000000   100.000000   100.000000   100.000000   100.000000   \n",
      "std    114.285007   145.117532   144.036941   150.097737   138.431808   \n",
      "min      0.000000     0.000000     0.000000     0.000000     0.000000   \n",
      "25%     31.664855    11.808005    12.909814     7.666989    17.792047   \n",
      "50%     65.397226    42.032690    44.730562    33.768594    47.509074   \n",
      "75%    119.898705   134.439744   126.781275   127.181758   124.408417   \n",
      "max    913.261823  1037.077866  1062.435712  1120.602119  1044.479663   \n",
      "\n",
      "       Elgeyo-Marakwet     Kericho       Bomet      Kiambu       Nandi  ...  \\\n",
      "count       501.000000  501.000000  501.000000  501.000000  501.000000  ...   \n",
      "mean        100.000000  100.000000  100.000000  100.000000  100.000000  ...   \n",
      "std          74.047182   51.461292   51.839673  132.112673   52.702795  ...   \n",
      "min           0.000000    0.623734    3.618801    0.000000    0.000000  ...   \n",
      "25%          44.178869   61.150950   61.191420   19.715167   58.057461  ...   \n",
      "50%          82.245476   95.360445   93.192275   50.248037   96.149654  ...   \n",
      "75%         140.034551  130.817922  129.859435  119.021303  134.582356  ...   \n",
      "max         425.040617  296.839588  300.121477  961.936052  269.141259  ...   \n",
      "\n",
      "           Vihiga      Nakuru    Laikipia       Kitui     Machakos  \\\n",
      "count  501.000000  501.000000  501.000000  501.000000   501.000000   \n",
      "mean   100.000000  100.000000  100.000000  100.000000   100.000000   \n",
      "std     45.016958   72.810708   96.308662  144.162393   147.229653   \n",
      "min      0.000000    0.073470    0.000000    0.000000     0.000000   \n",
      "25%     69.433534   46.845521   36.036486    3.791998     6.490072   \n",
      "50%     99.622542   88.574935   74.415192   36.244836    40.611309   \n",
      "75%    127.431676  128.608649  125.987577  131.022077   136.658260   \n",
      "max    247.966366  567.269525  661.642504  969.101330  1206.683876   \n",
      "\n",
      "           Makueni  Tharaka-Nithi  West Pokot       Narok     Baringo  \n",
      "count   501.000000     501.000000  501.000000  501.000000  501.000000  \n",
      "mean    100.000000     100.000000  100.000000  100.000000  100.000000  \n",
      "std     142.589965     152.725283   79.906960   71.076254   80.504176  \n",
      "min       0.000000       0.000000    0.000000    2.224817    0.000000  \n",
      "25%       3.555001       5.408296   37.486922   49.905595   40.328360  \n",
      "50%      34.428906      33.006483   81.270516   83.990330   77.660239  \n",
      "75%     145.012817     136.641314  143.469589  129.216859  139.498475  \n",
      "max    1086.483772    1095.524910  407.106106  534.799386  430.113645  \n",
      "\n",
      "[8 rows x 26 columns]\n",
      "Feature extraction complete. Data saved to rainfall_analysis.xlsx\n"
     ]
    }
   ],
   "source": [
    "import pandas as pd\n",
    "import numpy as np\n",
    "\n",
    "# Define counties of interest\n",
    "selected_counties = [\n",
    "    \"Nyeri\", \"Meru\", \"Kirinyaga\", \"Embu\", \"Murang'a\", \"Elgeyo-Marakwet\", \n",
    "    \"Kericho\", \"Bomet\", \"Kiambu\", \"Nandi\", \"Nyandarua\", \"Kisii\", \"Trans Nzoia\", \n",
    "    \"Uasin Gishu\", \"Bungoma\", \"Kakamega\", \"Vihiga\", \"Nakuru\", \"Laikipia\", \n",
    "    \"Kitui\", \"Machakos\", \"Makueni\", \"Tharaka-Nithi\", \"West Pokot\", \"Narok\", \"Baringo\"\n",
    "]\n",
    "\n",
    "# Load data\n",
    "df = pd.read_excel('E:/Agriculture project/Data/Semi-prepared data/Rainfall_total.xlsx', parse_dates=['Date'], index_col='Date')\n",
    "\n",
    "# Filter for selected counties (Assuming county names are column headers)\n",
    "df = df[selected_counties]\n",
    "\n",
    "# Compute Statistical Features\n",
    "features = pd.DataFrame()\n",
    "features['mean_rainfall'] = df.mean()\n",
    "features['median_rainfall'] = df.median()\n",
    "features['std_rainfall'] = df.std()\n",
    "features['cv_rainfall'] = df.std() / df.mean()  # Coefficient of Variation\n",
    "features['skewness'] = df.skew()\n",
    "features['kurtosis'] = df.kurtosis()\n",
    "features['min_rainfall'] = df.min()\n",
    "features['max_rainfall'] = df.max()\n",
    "\n",
    "# Temporal Features\n",
    "monthly_avg = df.resample('M').mean()  # Monthly averages\n",
    "yearly_totals = df.resample('Y').sum()  # Yearly total rainfall\n",
    "rolling_avg = df.rolling(window=3).mean()  # 3-month rolling average\n",
    "\n",
    "# Extreme Weather Features using Percent Normal Rainfall (PNR)\n",
    "long_term_mean = df.mean()  # Long-term mean rainfall\n",
    "pnr = (df / long_term_mean) * 100  # Percent Normal Rainfall (PNR)\n",
    "\n",
    "# Define threshold for extremely dry months (PNR < 50%) and extremely wet months (PNR > 150%)\n",
    "features['drought_months'] = (pnr < 50).sum(axis=0)  # Count per county\n",
    "features['heavy_rain_months'] = (pnr > 150).sum(axis=0)  # Count per county\n",
    "features['zero_rainfall_months'] = (df == 0).sum(axis=0)  # Zero-rainfall months\n",
    "\n",
    "# Debug: Print PNR thresholds\n",
    "print(\"PNR thresholds per county:\\n\", pnr.describe())\n",
    "\n",
    "# Save extracted features\n",
    "with pd.ExcelWriter(\"rainfall_analysis.xlsx\") as writer:\n",
    "    df.to_excel(writer, sheet_name=\"Filtered Raw Data\")\n",
    "    rolling_avg.to_excel(writer, sheet_name=\"Rolling Averages\")\n",
    "    pnr.to_excel(writer, sheet_name=\"PNR\")\n",
    "    features[['drought_months']].to_excel(writer, sheet_name=\"Drought Months\")\n",
    "    features[['heavy_rain_months']].to_excel(writer, sheet_name=\"Heavy Rain Months\")\n",
    "    features.to_excel(writer, sheet_name=\"Statistical Features\")\n",
    "    monthly_avg.to_excel(writer, sheet_name=\"Monthly Averages\")\n",
    "    yearly_totals.to_excel(writer, sheet_name=\"Yearly Totals\")\n",
    "\n",
    "print(\"Feature extraction complete. Data saved to rainfall_analysis.xlsx\")\n"
   ]
  },
  {
   "cell_type": "code",
   "execution_count": 3,
   "metadata": {},
   "outputs": [
    {
     "data": {
      "text/plain": [
       "DatetimeIndex(['1983-01-01', '1983-02-01', '1983-03-01', '1983-04-01',\n",
       "               '1983-05-01', '1983-06-01', '1983-07-01', '1983-08-01',\n",
       "               '1983-09-01', '1983-10-01',\n",
       "               ...\n",
       "               '2023-12-01', '2024-01-01', '2024-02-01', '2024-03-01',\n",
       "               '2024-04-01', '2024-05-01', '2024-06-01', '2024-07-01',\n",
       "               '2024-08-01', '2024-09-01'],\n",
       "              dtype='datetime64[ns]', name='Date', length=501, freq=None)"
      ]
     },
     "execution_count": 3,
     "metadata": {},
     "output_type": "execute_result"
    }
   ],
   "source": [
    "df.index"
   ]
  }
 ],
 "metadata": {
  "kernelspec": {
   "display_name": "Python 3",
   "language": "python",
   "name": "python3"
  },
  "language_info": {
   "codemirror_mode": {
    "name": "ipython",
    "version": 3
   },
   "file_extension": ".py",
   "mimetype": "text/x-python",
   "name": "python",
   "nbconvert_exporter": "python",
   "pygments_lexer": "ipython3",
   "version": "3.11.9"
  }
 },
 "nbformat": 4,
 "nbformat_minor": 2
}
