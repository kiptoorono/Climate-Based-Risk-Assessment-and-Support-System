{
 "cells": [
  {
   "cell_type": "code",
   "execution_count": 1,
   "metadata": {},
   "outputs": [],
   "source": [
    "import pandas as pd\n",
    "import numpy as np"
   ]
  },
  {
   "cell_type": "code",
   "execution_count": 22,
   "metadata": {},
   "outputs": [],
   "source": [
    "Rainfall_data=pd.read_excel(r\"E:\\Agriculture project\\Data Processing\\filtered_rainfall_analysis.xlsx\")\n",
    "Soil_moisture_data=pd.read_excel(r\"E:\\Agriculture project\\Data\\Semi-prepared data\\Soilmoisture.xlsx\")\n",
    "Temperature_data=pd.read_excel(r\"E:\\Agriculture project\\Data\\Semi-prepared data\\Temperature_wide.xlsx\")"
   ]
  },
  {
   "cell_type": "code",
   "execution_count": 23,
   "metadata": {},
   "outputs": [
    {
     "data": {
      "text/plain": [
       "Index(['Date', 'Nyeri', 'Meru', 'Kirinyaga', 'Embu', 'Murang'a',\n",
       "       'Elgeyo-Marakwet', 'Kericho', 'Bomet', 'Kiambu', 'Nandi', 'Nyandarua',\n",
       "       'Kisii', 'Trans Nzoia', 'Uasin Gishu', 'Bungoma', 'Kakamega', 'Vihiga',\n",
       "       'Nakuru', 'Laikipia', 'Kitui', 'Machakos', 'Makueni', 'Tharaka-Nithi',\n",
       "       'West Pokot', 'Narok', 'Baringo'],\n",
       "      dtype='object')"
      ]
     },
     "execution_count": 23,
     "metadata": {},
     "output_type": "execute_result"
    }
   ],
   "source": [
    "Rainfall_data.columns\n"
   ]
  },
  {
   "cell_type": "code",
   "execution_count": 24,
   "metadata": {},
   "outputs": [
    {
     "data": {
      "text/plain": [
       "Index(['Date', 'Baringo', 'Bomet', 'Bungoma', 'Busia', 'Elgeyo-Marakwet',\n",
       "       'Embu', 'Garissa', 'Homa Bay', 'Isiolo', 'Kajiado', 'Kakamega',\n",
       "       'Kericho', 'Kiambu', 'Kilifi', 'Kirinyaga', 'Kisii', 'Kisumu', 'Kitui',\n",
       "       'Kwale', 'Laikipia', 'Lamu', 'Machakos', 'Makueni', 'Mandera',\n",
       "       'Marsabit', 'Meru', 'Migori', 'Mombasa', 'Murang'a', 'Nairobi',\n",
       "       'Nakuru', 'Nandi', 'Narok', 'Nyamira', 'Nyandarua', 'Nyeri', 'Samburu',\n",
       "       'Siaya', 'Taita Taveta', 'Tana River', 'Tharaka-Nithi', 'Trans Nzoia',\n",
       "       'Turkana', 'Uasin Gishu', 'Vihiga', 'Wajir', 'West Pokot'],\n",
       "      dtype='object')"
      ]
     },
     "execution_count": 24,
     "metadata": {},
     "output_type": "execute_result"
    }
   ],
   "source": [
    "Soil_moisture_data.columns\n"
   ]
  },
  {
   "cell_type": "markdown",
   "metadata": {},
   "source": [
    "<h2> Merge All the dataset into one Excel file </h2>"
   ]
  },
  {
   "cell_type": "code",
   "execution_count": null,
   "metadata": {},
   "outputs": [
    {
     "name": "stdout",
     "output_type": "stream",
     "text": [
      "Rainfall Data Loaded | Shape: (489, 22) | Date Range: 1984-01-01 00:00:00 to 2024-09-01 00:00:00\n",
      "Soil Moisture Data Loaded | Shape: (489, 22) | Date Range: 1984-01-01 00:00:00 to 2024-09-01 00:00:00\n",
      "Temperature Data Loaded | Shape: (468, 22) | Date Range: 1984-01-01 00:00:00 to 2022-12-01 00:00:00\n",
      "Common Dates Count: 468\n"
     ]
    },
    {
     "name": "stderr",
     "output_type": "stream",
     "text": [
      "C:\\Users\\Rono\\AppData\\Local\\Temp\\ipykernel_3960\\2493766760.py:14: SettingWithCopyWarning: \n",
      "A value is trying to be set on a copy of a slice from a DataFrame\n",
      "\n",
      "See the caveats in the documentation: https://pandas.pydata.org/pandas-docs/stable/user_guide/indexing.html#returning-a-view-versus-a-copy\n",
      "  df.rename(columns={df.columns[0]: \"Date\"}, inplace=True)\n",
      "C:\\Users\\Rono\\AppData\\Local\\Temp\\ipykernel_3960\\2493766760.py:15: SettingWithCopyWarning: \n",
      "A value is trying to be set on a copy of a slice from a DataFrame.\n",
      "Try using .loc[row_indexer,col_indexer] = value instead\n",
      "\n",
      "See the caveats in the documentation: https://pandas.pydata.org/pandas-docs/stable/user_guide/indexing.html#returning-a-view-versus-a-copy\n",
      "  df[\"Date\"] = pd.to_datetime(df[\"Date\"])\n"
     ]
    },
    {
     "name": "stdout",
     "output_type": "stream",
     "text": [
      "Data Merged Successfully and saved to E:\\Agriculture project\\Data Processing\\Merged_data.xlsx\n"
     ]
    }
   ],
   "source": [
    "# List of selected counties in Agro-Ecological Zones 1-4\n",
    "selected_counties = [\n",
    "    \"Nyeri\", \"Meru\", \"Embu\", \"Murang'a\",\n",
    "    \"Kericho\", \"Bomet\", \"Nandi\", \"Nyandarua\", \"Kisii\",\n",
    "    \"Uasin Gishu\", \"Bungoma\", \"Kakamega\",\n",
    "    \"Nakuru\", \"Laikipia\", \"Kitui\", \"Machakos\", \"Makueni\", \"Tharaka-Nithi\",\n",
    "    \"West Pokot\", \"Narok\", \"Baringo\"\n",
    "]\n",
    "\n",
    "# Function to preprocess data: rename Date column, convert to datetime, and filter counties\n",
    "def preprocess_data(df, name):\n",
    "    df.rename(columns={df.columns[0]: \"Date\"}, inplace=True)\n",
    "    df[\"Date\"] = pd.to_datetime(df[\"Date\"])\n",
    "    df = df[df[\"Date\"].dt.year >= 1984]  # Remove data before 1984\n",
    "    df = df[[\"Date\"] + selected_counties]  # Select only relevant counties\n",
    "    print(f\"{name} Data Loaded | Shape: {df.shape} | Date Range: {df['Date'].min()} to {df['Date'].max()}\")\n",
    "    return df\n",
    "\n",
    "# Preprocess all datasets\n",
    "Rainfall_data = preprocess_data(Rainfall_data, \"Rainfall\")\n",
    "Soil_moisture_data = preprocess_data(Soil_moisture_data, \"Soil Moisture\")\n",
    "Temperature_data = preprocess_data(Temperature_data, \"Temperature\")\n",
    "\n",
    "# Check common dates before merging\n",
    "common_dates = (\n",
    "    set(Rainfall_data[\"Date\"]) & \n",
    "    set(Soil_moisture_data[\"Date\"]) & \n",
    "    set(Temperature_data[\"Date\"])\n",
    ")\n",
    "print(f\"Common Dates Count: {len(common_dates)}\")\n",
    "\n",
    "# Merge datasets and ensure Temperature columns get \"_temp\" suffix\n",
    "merged_data = Rainfall_data.merge(Soil_moisture_data, on=\"Date\", suffixes=(\"_rain\", \"_soil\"))\n",
    "merged_data = merged_data.merge(Temperature_data, on=\"Date\", how=\"inner\", suffixes=(\"\", \"_temp\"))\n",
    "\n",
    "# Manually add \"_temp\" suffix to Temperature columns\n",
    "for county in selected_counties:\n",
    "    if county in merged_data.columns:\n",
    "        merged_data.rename(columns={county: f\"{county}_temp\"}, inplace=True)\n",
    "\n",
    "# Save to Excel\n",
    "output_path = r\"E:\\Agriculture project\\Analysis\\Merged_data.xlsx\"\n",
    "merged_data.to_excel(output_path, index=False)\n",
    "print(f\"Data Merged Successfully and saved to {output_path}\")\n"
   ]
  }
 ],
 "metadata": {
  "kernelspec": {
   "display_name": "Python 3",
   "language": "python",
   "name": "python3"
  },
  "language_info": {
   "codemirror_mode": {
    "name": "ipython",
    "version": 3
   },
   "file_extension": ".py",
   "mimetype": "text/x-python",
   "name": "python",
   "nbconvert_exporter": "python",
   "pygments_lexer": "ipython3",
   "version": "3.11.9"
  }
 },
 "nbformat": 4,
 "nbformat_minor": 2
}
